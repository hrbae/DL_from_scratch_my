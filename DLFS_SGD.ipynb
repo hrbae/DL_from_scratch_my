{
  "nbformat": 4,
  "nbformat_minor": 0,
  "metadata": {
    "colab": {
      "name": "DLFS_SGD.ipynb",
      "provenance": [],
      "authorship_tag": "ABX9TyN9pwA5u/1BGCN3qkFyNnax",
      "include_colab_link": true
    },
    "kernelspec": {
      "name": "python3",
      "display_name": "Python 3"
    },
    "language_info": {
      "name": "python"
    }
  },
  "cells": [
    {
      "cell_type": "markdown",
      "metadata": {
        "id": "view-in-github",
        "colab_type": "text"
      },
      "source": [
        "<a href=\"https://colab.research.google.com/github/hrbae/DL_from_scratch_my/blob/main/DLFS_SGD.ipynb\" target=\"_parent\"><img src=\"https://colab.research.google.com/assets/colab-badge.svg\" alt=\"Open In Colab\"/></a>"
      ]
    },
    {
      "cell_type": "code",
      "metadata": {
        "colab": {
          "base_uri": "https://localhost:8080/"
        },
        "id": "m54Cn5Upn_CM",
        "outputId": "de01f4bc-3ea8-4d78-d3d7-65d54023c9a4"
      },
      "source": [
        "from google.colab import drive\n",
        "drive.mount('/content/drive')"
      ],
      "execution_count": 1,
      "outputs": [
        {
          "output_type": "stream",
          "text": [
            "Mounted at /content/drive\n"
          ],
          "name": "stdout"
        }
      ]
    },
    {
      "cell_type": "code",
      "metadata": {
        "colab": {
          "base_uri": "https://localhost:8080/"
        },
        "id": "3MaYoXKXofGF",
        "outputId": "525f1fb2-4c4e-4063-903d-c8cae13837ba"
      },
      "source": [
        "%cd drive/MyDrive/Colab\\ Notebooks/DL_from_scratch_my"
      ],
      "execution_count": 2,
      "outputs": [
        {
          "output_type": "stream",
          "text": [
            "/content/drive/MyDrive/Colab Notebooks/DL_from_scratch_my\n"
          ],
          "name": "stdout"
        }
      ]
    },
    {
      "cell_type": "code",
      "metadata": {
        "id": "UcnY-OndogqJ"
      },
      "source": [
        "import numpy as np\n",
        "import matplotlib.pyplot as plt\n",
        "from collections import OrderedDict\n",
        "from common.optimizer import *"
      ],
      "execution_count": 3,
      "outputs": []
    },
    {
      "cell_type": "code",
      "metadata": {
        "id": "_6zIq3w8pRFq"
      },
      "source": [
        "def f(x,y):\n",
        "  return x**2/20.0 + y**2\n",
        "\n",
        "def df(x,y):\n",
        "  return x/10.0, 2.0*y"
      ],
      "execution_count": 4,
      "outputs": []
    },
    {
      "cell_type": "code",
      "metadata": {
        "colab": {
          "base_uri": "https://localhost:8080/",
          "height": 177
        },
        "id": "6XnvtTOCpmQm",
        "outputId": "ebd2c326-fe04-4cbc-e76b-346160a93656"
      },
      "source": [
        "init_pos = (-7.0, 2.0)\n",
        "params = {}\n",
        "params['x'], params['y'] = init_pos[0], init_pos[1]\n",
        "grads={}\n",
        "grads['x'], grads['y']=0,0\n",
        "\n",
        "optimizer = SGD(lr=0.95)\n",
        "idx=1\n",
        "x_history=[]\n",
        "y_history=[]\n",
        "\n",
        "for i in range(30):\n",
        "  x_history.append(params['x'])\n",
        "  y_history.append(params['y'])\n",
        "\n",
        "  grads['x'], grads['y'] = df(params['x'], params['y'])\n",
        "  optimizer.update(params, grads)\n",
        "\n",
        "x=np.arange(-10, 10, 0.01)\n",
        "y=np.arange(-5, 5, 0.01)\n",
        "\n",
        "X, Y = np.meshgrid(x,y)\n",
        "Z = f(X,Y)\n",
        "\n",
        "#외곽선 단순화\n",
        "mask = Z > 7\n",
        "Z[mask]=0\n",
        "\n",
        "#그래프 그리기\n",
        "plt.subplot(2, 2, idx)\n",
        "idx+=1\n",
        "plt.plot(x_history, y_history, 'o-', color=\"red\")\n",
        "plt.contour(X, Y, Z)\n",
        "plt.ylim(-10, 10)\n",
        "plt.xlim(-10, 10)\n",
        "plt.plot(0, 0, '+')\n",
        "#colorbar()\n",
        "#spring()\n",
        "plt.title(\"SGD\")\n",
        "plt.xlabel(\"X\")\n",
        "plt.ylabel(\"Y\")\n",
        "\n",
        "plt.show()"
      ],
      "execution_count": 9,
      "outputs": [
        {
          "output_type": "display_data",
          "data": {
            "image/png": "[encoded data removed]",
            "text/plain": [
              "<Figure size 432x288 with 1 Axes>"
            ]
          },
          "metadata": {
            "tags": [],
            "needs_background": "light"
          }
        }
      ]
    }
  ]
}